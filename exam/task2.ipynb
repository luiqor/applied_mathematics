{
 "cells": [
  {
   "cell_type": "code",
   "execution_count": 9,
   "metadata": {},
   "outputs": [
    {
     "name": "stdout",
     "output_type": "stream",
     "text": [
      "Розв'язки системи:\n"
     ]
    },
    {
     "data": {
      "text/latex": [
       "$\\displaystyle x{\\left(t \\right)} = - C_{1} e^{4 t} + 3 C_{2} e^{8 t}$"
      ],
      "text/plain": [
       "Eq(x(t), -C1*exp(4*t) + 3*C2*exp(8*t))"
      ]
     },
     "metadata": {},
     "output_type": "display_data"
    },
    {
     "data": {
      "text/latex": [
       "$\\displaystyle y{\\left(t \\right)} = C_{1} e^{4 t} + C_{2} e^{8 t}$"
      ],
      "text/plain": [
       "Eq(y(t), C1*exp(4*t) + C2*exp(8*t))"
      ]
     },
     "metadata": {},
     "output_type": "display_data"
    },
    {
     "name": "stdout",
     "output_type": "stream",
     "text": [
      "\n",
      "Рівняння для x:\n"
     ]
    },
    {
     "data": {
      "text/latex": [
       "$\\displaystyle - C_{1} + 3 C_{2}$"
      ],
      "text/plain": [
       "-C1 + 3*C2"
      ]
     },
     "metadata": {},
     "output_type": "display_data"
    },
    {
     "name": "stdout",
     "output_type": "stream",
     "text": [
      "\n",
      "Рівняння для y:\n"
     ]
    },
    {
     "data": {
      "text/latex": [
       "$\\displaystyle C_{1} + C_{2}$"
      ],
      "text/plain": [
       "C1 + C2"
      ]
     },
     "metadata": {},
     "output_type": "display_data"
    },
    {
     "name": "stdout",
     "output_type": "stream",
     "text": [
      "Значення довільних сталих\n"
     ]
    },
    {
     "data": {
      "text/plain": [
       "{C1: 5/4, C2: 3/4}"
      ]
     },
     "metadata": {},
     "output_type": "display_data"
    },
    {
     "name": "stdout",
     "output_type": "stream",
     "text": [
      "\n",
      "Розв'язок системи:\n",
      "частковий розв'язок для x\n"
     ]
    },
    {
     "data": {
      "text/latex": [
       "$\\displaystyle \\frac{9 e^{8 t}}{4} - \\frac{5 e^{4 t}}{4}$"
      ],
      "text/plain": [
       "9*exp(8*t)/4 - 5*exp(4*t)/4"
      ]
     },
     "metadata": {},
     "output_type": "display_data"
    },
    {
     "name": "stdout",
     "output_type": "stream",
     "text": [
      "частковий розв'язок для y\n"
     ]
    },
    {
     "data": {
      "text/latex": [
       "$\\displaystyle \\frac{3 e^{8 t}}{4} + \\frac{5 e^{4 t}}{4}$"
      ],
      "text/plain": [
       "3*exp(8*t)/4 + 5*exp(4*t)/4"
      ]
     },
     "metadata": {},
     "output_type": "display_data"
    },
    {
     "data": {
      "image/png": "[encoded data removed]",
      "text/plain": [
       "<Figure size 640x480 with 1 Axes>"
      ]
     },
     "metadata": {},
     "output_type": "display_data"
    }
   ],
   "source": [
    "from sympy import symbols, Function, Eq, Derivative, dsolve, solve, Lambda, dsolve, sin, cos\n",
    "from IPython.display import display\n",
    "from sympy.plotting import plot_parametric\n",
    "\n",
    "# Оголошення символів для змінних та функцій за допмогою sympy\n",
    "t, C1, C2 = symbols('t C1 C2')\n",
    "x, y = symbols('x y', cls=Function)\n",
    "\n",
    "# Оголошення системи диференціальних рівнянь\n",
    "eq = (Eq(Derivative(x(t), t), 7 * x(t) + 3 * y(t)), Eq(Derivative(y(t), t), x(t) + 5 * y(t)))\n",
    "\n",
    "\n",
    "des = dsolve(eq) #dsolve повертає розв'язок диференціального рівняння або системи рівнянь\n",
    "print(\"Розв'язки системи:\")\n",
    "for solution in des:\n",
    "    display(solution)\n",
    "\n",
    "#обчислюються значення функцій x та y при t=0. метод rhs (right hand side) вибирає праву частину символьного виразу.\n",
    "eq1 = des[0].rhs.subs(t, 0)\n",
    "print(\"\\nРівняння для x:\")\n",
    "display(eq1)\n",
    "\n",
    "eq2 = des[1].rhs.subs(t, 0)\n",
    "print(\"\\nРівняння для y:\")\n",
    "display(eq2)\n",
    "\n",
    "x_0 = 1\n",
    "y_0 = 2\n",
    "seq = solve([eq1 - x_0, eq2 - y_0], C1, C2) #Знаходяться значення довільних сталих C1 та C2 за допомогою функції solve, враховуючи початкові умови x_0 та y_0\n",
    "print(\"Значення довільних сталих\")\n",
    "display(seq)\n",
    "\n",
    "print(\"\\nРозв'язок системи:\")\n",
    "result=des[0].rhs.subs([(C1,seq[C1]),(C2,seq[C2])]) #Обчислення часткового розв'язку для змінної x за допомогою підстановки конкретних значень C1 і C2, які знаходяться у списку seq.\n",
    "X = Lambda(t,result) # Створення функції X(t) на основі отриманого часткового розв'язку для x.\n",
    "print(\"частковий розв'язок для x\")\n",
    "display(X(t))\n",
    "\n",
    "result=des[1].rhs.subs([(C1,seq[C1]),(C2,seq[C2])])\n",
    "Y = Lambda(t,result)\n",
    "print(\"частковий розв'язок для y\")\n",
    "display(Y(t))\n",
    "\n",
    "#print(X(t))\n",
    "#print(Y(t))\n",
    "\n",
    "#побудова графіка\n",
    "parametric_plot = plot_parametric((X(t), Y(t)), (t, -10, 10), xlim=(-10, 10), ylim=(-2, 10), show=True)"
   ]
  }
 ],
 "metadata": {
  "kernelspec": {
   "display_name": "Python 3",
   "language": "python",
   "name": "python3"
  },
  "language_info": {
   "codemirror_mode": {
    "name": "ipython",
    "version": 3
   },
   "file_extension": ".py",
   "mimetype": "text/x-python",
   "name": "python",
   "nbconvert_exporter": "python",
   "pygments_lexer": "ipython3",
   "version": "3.11.5"
  }
 },
 "nbformat": 4,
 "nbformat_minor": 2
}
