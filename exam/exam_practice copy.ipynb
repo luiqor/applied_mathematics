{
 "cells": [
  {
   "cell_type": "code",
   "execution_count": 39,
   "metadata": {},
   "outputs": [
    {
     "name": "stdout",
     "output_type": "stream",
     "text": [
      "Розв'язки системи:\n"
     ]
    },
    {
     "data": {
      "text/latex": [
       "$\\displaystyle x{\\left(t \\right)} = - 2 C_{1} e^{- t} + C_{2} e^{5 t}$"
      ],
      "text/plain": [
       "Eq(x(t), -2*C1*exp(-t) + C2*exp(5*t))"
      ]
     },
     "metadata": {},
     "output_type": "display_data"
    },
    {
     "data": {
      "text/latex": [
       "$\\displaystyle y{\\left(t \\right)} = C_{1} e^{- t} + C_{2} e^{5 t}$"
      ],
      "text/plain": [
       "Eq(y(t), C1*exp(-t) + C2*exp(5*t))"
      ]
     },
     "metadata": {},
     "output_type": "display_data"
    },
    {
     "name": "stdout",
     "output_type": "stream",
     "text": [
      "\n",
      "Перше рівняння для x:\n"
     ]
    },
    {
     "data": {
      "text/latex": [
       "$\\displaystyle - 2 C_{1} + C_{2}$"
      ],
      "text/plain": [
       "-2*C1 + C2"
      ]
     },
     "metadata": {},
     "output_type": "display_data"
    },
    {
     "name": "stdout",
     "output_type": "stream",
     "text": [
      "\n",
      "Перше рівняння для y:\n"
     ]
    },
    {
     "data": {
      "text/latex": [
       "$\\displaystyle C_{1} + C_{2}$"
      ],
      "text/plain": [
       "C1 + C2"
      ]
     },
     "metadata": {},
     "output_type": "display_data"
    },
    {
     "name": "stdout",
     "output_type": "stream",
     "text": [
      "Значення довільних сталих\n"
     ]
    },
    {
     "data": {
      "text/plain": [
       "{C1: 1/3, C2: 5/3}"
      ]
     },
     "metadata": {},
     "output_type": "display_data"
    },
    {
     "name": "stdout",
     "output_type": "stream",
     "text": [
      "частковий розв для x\n"
     ]
    },
    {
     "data": {
      "text/latex": [
       "$\\displaystyle \\frac{5 e^{5 t}}{3} - \\frac{2 e^{- t}}{3}$"
      ],
      "text/plain": [
       "5*exp(5*t)/3 - 2*exp(-t)/3"
      ]
     },
     "metadata": {},
     "output_type": "display_data"
    },
    {
     "name": "stdout",
     "output_type": "stream",
     "text": [
      "частковий розв для y\n"
     ]
    },
    {
     "data": {
      "text/latex": [
       "$\\displaystyle \\frac{5 e^{5 t}}{3} + \\frac{e^{- t}}{3}$"
      ],
      "text/plain": [
       "5*exp(5*t)/3 + exp(-t)/3"
      ]
     },
     "metadata": {},
     "output_type": "display_data"
    }
   ],
   "source": [
    "from sympy import symbols, Function, Eq, Derivative, dsolve, solve, Lambda, dsolve, sin, cos\n",
    "from IPython.display import display\n",
    "from sympy.plotting import plot_parametric\n",
    "\n",
    "t, C1, C2 = symbols('t C1 C2')\n",
    "x, y = symbols('x y', cls=Function)\n",
    "\n",
    "eq = (Eq(Derivative(x(t), t), x(t) + 4 * y(t)), Eq(Derivative(y(t), t), 2 * x(t) + 3 * y(t)))\n",
    "rez = dsolve(eq)\n",
    "\n",
    "print(\"Розв'язки системи:\")\n",
    "for solution in rez:\n",
    "    display(solution)\n",
    "\n",
    "eq1 = rez[0].rhs.subs(t, 0)\n",
    "print(\"\\nПерше рівняння для x:\")\n",
    "display(eq1)\n",
    "\n",
    "eq2 = rez[1].rhs.subs(t, 0)\n",
    "print(\"\\nПерше рівняння для y:\")\n",
    "display(eq2)\n",
    "\n",
    "x_0 = 1\n",
    "y_0 = 2\n",
    "seq = solve([eq1 - x_0, eq2 - y_0], C1, C2)\n",
    "print(\"Значення довільних сталих\")\n",
    "display(seq)\n",
    "\n",
    "\n",
    "result=rez[0].rhs.subs([(C1,seq[C1]),(C2,seq[C2])])\n",
    "X = Lambda(t,result)\n",
    "print(\"частковий розв для x\")\n",
    "display(X(t))\n",
    "\n",
    "result=rez[1].rhs.subs([(C1,seq[C1]),(C2,seq[C2])])\n",
    "Y = Lambda(t,result)\n",
    "print(\"частковий розв для y\")\n",
    "display(Y(t))"
   ]
  },
  {
   "cell_type": "code",
   "execution_count": 48,
   "metadata": {},
   "outputs": [
    {
     "data": {
      "image/png": "[encoded data removed]",
      "text/plain": [
       "<Figure size 640x480 with 1 Axes>"
      ]
     },
     "metadata": {},
     "output_type": "display_data"
    }
   ],
   "source": [
    "parametric_plot = plot_parametric((X(t), Y(t)), (t, -10, 10), xlim=(-10, 10), ylim=(-10, 10), show=True)"
   ]
  }
 ],
 "metadata": {
  "kernelspec": {
   "display_name": "Python 3",
   "language": "python",
   "name": "python3"
  },
  "language_info": {
   "codemirror_mode": {
    "name": "ipython",
    "version": 3
   },
   "file_extension": ".py",
   "mimetype": "text/x-python",
   "name": "python",
   "nbconvert_exporter": "python",
   "pygments_lexer": "ipython3",
   "version": "3.11.5"
  }
 },
 "nbformat": 4,
 "nbformat_minor": 2
}
