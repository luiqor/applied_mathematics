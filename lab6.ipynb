{
  "cells": [
    {
      "cell_type": "code",
      "execution_count": 6,
      "metadata": {
        "colab": {
          "base_uri": "https://localhost:8080/"
        },
        "id": "MrQWCDHZM5Bl",
        "outputId": "6e60bfe1-f79b-45f8-bb84-08d0810403ea"
      },
      "outputs": [
        {
          "name": "stdout",
          "output_type": "stream",
          "text": [
            "Загальний розв'язок\n"
          ]
        },
        {
          "data": {
            "image/png": "[encoded data removed]",
            "text/latex": [
              "$\\displaystyle y{\\left(x \\right)} = \\left(C_{1} - \\frac{x^{2}}{4}\\right) \\cos{\\left(x \\right)} + \\left(C_{2} + \\frac{x}{4}\\right) \\sin{\\left(x \\right)}$"
            ],
            "text/plain": [
              "       ⎛      2⎞                         \n",
              "       ⎜     x ⎟          ⎛     x⎞       \n",
              "y(x) = ⎜C₁ - ──⎟⋅cos(x) + ⎜C₂ + ─⎟⋅sin(x)\n",
              "       ⎝     4 ⎠          ⎝     4⎠       "
            ]
          },
          "metadata": {},
          "output_type": "display_data"
        }
      ],
      "source": [
        "from sympy import *\n",
        "from IPython.display import *\n",
        "x = symbols('x')\n",
        "y=Function('y') # оголошення символьної функції\n",
        "print(\"Загальний розв'язок\")\n",
        "display(dsolve(Eq(y(x).diff(x,x)+y(x),x*sin(x)),y(x)))"
      ]
    },
    {
      "cell_type": "code",
      "execution_count": 7,
      "metadata": {
        "colab": {
          "base_uri": "https://localhost:8080/",
          "height": 265
        },
        "id": "OSEXQFvGQpJr",
        "outputId": "3ede253b-2528-46fd-8800-a6b5bbdceedc"
      },
      "outputs": [
        {
          "name": "stdout",
          "output_type": "stream",
          "text": [
            "Задане диференціальне рівняння\n"
          ]
        },
        {
          "data": {
            "image/png": "[encoded data removed]",
            "text/latex": [
              "$\\displaystyle 2 u{\\left(x \\right)} - 3 \\frac{d}{d x} u{\\left(x \\right)} + \\frac{d^{2}}{d x^{2}} u{\\left(x \\right)} = e^{x}$"
            ],
            "text/plain": [
              "                        2           \n",
              "           d           d           x\n",
              "2⋅u(x) - 3⋅──(u(x)) + ───(u(x)) = ℯ \n",
              "           dx           2           \n",
              "                      dx            "
            ]
          },
          "metadata": {},
          "output_type": "display_data"
        },
        {
          "name": "stdout",
          "output_type": "stream",
          "text": [
            "Загальний розв'язок\n"
          ]
        },
        {
          "data": {
            "image/png": "[encoded data removed]",
            "text/latex": [
              "$\\displaystyle u{\\left(x \\right)} = \\left(C_{1} + C_{2} e^{x} - x\\right) e^{x}$"
            ],
            "text/plain": [
              "       ⎛         x    ⎞  x\n",
              "u(x) = ⎝C₁ + C₂⋅ℯ  - x⎠⋅ℯ "
            ]
          },
          "metadata": {},
          "output_type": "display_data"
        },
        {
          "name": "stdout",
          "output_type": "stream",
          "text": [
            "Перше рівняння\n"
          ]
        },
        {
          "data": {
            "image/png": "[encoded data removed]",
            "text/latex": [
              "$\\displaystyle C_{1} + C_{2}$"
            ],
            "text/plain": [
              "C₁ + C₂"
            ]
          },
          "metadata": {},
          "output_type": "display_data"
        },
        {
          "name": "stdout",
          "output_type": "stream",
          "text": [
            "дРУГЕ рівняння\n"
          ]
        },
        {
          "data": {
            "image/png": "[encoded data removed]",
            "text/latex": [
              "$\\displaystyle C_{1} + 2 C_{2} - 1$"
            ],
            "text/plain": [
              "C₁ + 2⋅C₂ - 1"
            ]
          },
          "metadata": {},
          "output_type": "display_data"
        },
        {
          "name": "stdout",
          "output_type": "stream",
          "text": [
            "Значення довільних сталих\n"
          ]
        },
        {
          "data": {
            "image/png": "[encoded data removed]",
            "text/latex": [
              "$\\displaystyle \\left\\{ C_{1} : -1, \\  C_{2} : 2\\right\\}$"
            ],
            "text/plain": [
              "{C₁: -1, C₂: 2}"
            ]
          },
          "metadata": {},
          "output_type": "display_data"
        },
        {
          "name": "stdout",
          "output_type": "stream",
          "text": [
            "Розв'язок задачі Коші/ Частинний розв\n"
          ]
        },
        {
          "data": {
            "image/png": "[encoded data removed]",
            "text/latex": [
              "$\\displaystyle \\left(- x + 2 e^{x} - 1\\right) e^{x}$"
            ],
            "text/plain": [
              "⎛        x    ⎞  x\n",
              "⎝-x + 2⋅ℯ  - 1⎠⋅ℯ "
            ]
          },
          "metadata": {},
          "output_type": "display_data"
        }
      ],
      "source": [
        "import numpy as np\n",
        "from sympy import *\n",
        "from IPython.display import *\n",
        "import matplotlib.pyplot as plt\n",
        "init_printing(use_latex=True)\n",
        "var('x C1 C2')\n",
        "u = Function(\"u\")(x) # тут u – вираз (не функція)\n",
        "de = Eq(u.diff(x,x)-3*u.diff(x)+2*u,exp(x))\n",
        "print(\"Задане диференціальне рівняння\")\n",
        "display(de)\n",
        "\n",
        "des = dsolve(de,u) # тут u – вираз, а не функція\n",
        "print(\"Загальний розв'язок\")\n",
        "display(des)\n",
        "\n",
        "eq1=des.rhs.subs(x,0)\n",
        "print(\"Перше рівняння\")\n",
        "display(eq1)\n",
        "\n",
        "eq2=des.rhs.diff(x).subs(x,0)\n",
        "print(\"дРУГЕ рівняння\")\n",
        "display(eq2)\n",
        "\n",
        "seq=solve([eq1 -1,eq2 -2],C1,C2)\n",
        "print(\"Значення довільних сталих\")\n",
        "display(seq)\n",
        "\n",
        "rez=des.rhs.subs([(C1,seq[C1]),(C2,seq[C2])])\n",
        "F = Lambda(x,rez)\n",
        "print(\"Розв'язок задачі Коші/ Частинний розв\")\n",
        "display(F(x))"
      ]
    },
    {
      "cell_type": "code",
      "execution_count": 4,
      "metadata": {
        "colab": {
          "base_uri": "https://localhost:8080/",
          "height": 453
        },
        "id": "qO0gHnhxPSor",
        "outputId": "2c10e3c6-523d-4414-c617-e5c257d1d64c"
      },
      "outputs": [
        {
          "data": {
            "image/png": "[encoded data removed]",
            "text/plain": [
              "<Figure size 640x480 with 1 Axes>"
            ]
          },
          "metadata": {},
          "output_type": "display_data"
        }
      ],
      "source": [
        "f=lambdify(x, rez, \"numpy\")\n",
        "x = np.linspace(0,5,100)\n",
        "plt.grid(True)\n",
        "plt.xlabel('Time t seconds',fontsize=12)\n",
        "plt.ylabel(' $f(t)$',fontsize=16)\n",
        "plt.plot(x,f(x),color='red', linewidth=3)\n",
        "plt.show()"
      ]
    },
    {
      "cell_type": "code",
      "execution_count": 5,
      "metadata": {
        "colab": {
          "base_uri": "https://localhost:8080/",
          "height": 58
        },
        "id": "EXGLRzViVrNj",
        "outputId": "e85f22ac-c9f0-4a3b-b18f-1d7f4f8eca70"
      },
      "outputs": [
        {
          "data": {
            "image/png": "[encoded data removed]",
            "text/latex": [
              "$\\displaystyle \\left[ x{\\left(t \\right)} = - 2 C_{1} e^{2 t} - C_{2} e^{3 t} - \\frac{3 e^{t}}{2} - \\frac{1}{3}, \\  y{\\left(t \\right)} = C_{1} e^{2 t} + C_{2} e^{3 t} + \\frac{e^{t}}{2} - \\frac{1}{6}\\right]$"
            ],
            "text/plain": [
              "⎡                                  t                                  t    ⎤\n",
              "⎢               2⋅t       3⋅t   3⋅ℯ    1             2⋅t       3⋅t   ℯ    1⎥\n",
              "⎢x(t) = - 2⋅C₁⋅ℯ    - C₂⋅ℯ    - ──── - ─, y(t) = C₁⋅ℯ    + C₂⋅ℯ    + ── - ─⎥\n",
              "⎣                                2     3                             2    6⎦"
            ]
          },
          "metadata": {},
          "output_type": "display_data"
        }
      ],
      "source": [
        "from sympy import *\n",
        "\n",
        "t = symbols('t')\n",
        "x, y = symbols('x y', cls=Function)\n",
        "eq = (Eq(Derivative(x(t), t), x(t) - 2 *y(t) + exp(t)),\n",
        "      Eq(Derivative(y(t), t), x(t) + 4 * y(t) + 1))\n",
        "rez = dsolve(eq)\n",
        "display(list(rez))"
      ]
    }
  ],
  "metadata": {
    "colab": {
      "provenance": []
    },
    "kernelspec": {
      "display_name": "Python 3",
      "name": "python3"
    },
    "language_info": {
      "codemirror_mode": {
        "name": "ipython",
        "version": 3
      },
      "file_extension": ".py",
      "mimetype": "text/x-python",
      "name": "python",
      "nbconvert_exporter": "python",
      "pygments_lexer": "ipython3",
      "version": "3.11.5"
    }
  },
  "nbformat": 4,
  "nbformat_minor": 0
}
