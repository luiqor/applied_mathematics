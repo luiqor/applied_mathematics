{
  "cells": [
    {
      "cell_type": "markdown",
      "metadata": {},
      "source": [
        "В.П. Денесюк, В.К. Репета, частина 2, стор. 258 №3.3.2"
      ]
    },
    {
      "cell_type": "code",
      "execution_count": 6,
      "metadata": {
        "colab": {
          "base_uri": "https://localhost:8080/"
        },
        "id": "MrQWCDHZM5Bl",
        "outputId": "6e60bfe1-f79b-45f8-bb84-08d0810403ea"
      },
      "outputs": [
        {
          "name": "stdout",
          "output_type": "stream",
          "text": [
            "Загальний розв'язок\n",
            "       ⎛      2⎞                         \n",
            "       ⎜     x ⎟          ⎛     x⎞       \n",
            "y(x) = ⎜C₁ - ──⎟⋅cos(x) + ⎜C₂ + ─⎟⋅sin(x)\n",
            "       ⎝     4 ⎠          ⎝     4⎠       \n"
          ]
        }
      ],
      "source": [
        "from sympy import *\n",
        "from IPython.display import *\n",
        "x = symbols('x')\n",
        "y=Function('y') # оголошення символьної функції\n",
        "equation = Eq(y(x).diff(x,x)+y(x),x*sin(x))\n",
        "print(\"Загальний розв'язок\")\n",
        "pprint(dsolve(equation,y(x)))"
      ]
    },
    {
      "cell_type": "code",
      "execution_count": 5,
      "metadata": {},
      "outputs": [
        {
          "name": "stdout",
          "output_type": "stream",
          "text": [
            "Загальний розв'язок\n"
          ]
        },
        {
          "data": {
            "text/latex": [
              "$\\displaystyle y{\\left(x \\right)} = \\left(C_{1} - \\frac{x^{2}}{4}\\right) \\cos{\\left(x \\right)} + \\left(C_{2} + \\frac{x}{4}\\right) \\sin{\\left(x \\right)}$"
            ],
            "text/plain": [
              "Eq(y(x), (C1 - x**2/4)*cos(x) + (C2 + x/4)*sin(x))"
            ]
          },
          "metadata": {},
          "output_type": "display_data"
        }
      ],
      "source": [
        "from sympy import *\n",
        "from IPython.display import *\n",
        "x = symbols('x')\n",
        "y=Function('y') # оголошення символьної функції\n",
        "equation = Eq(y(x).diff(x,x)+y(x),x*sin(x))\n",
        "print(\"Загальний розв'язок\")\n",
        "display(dsolve(equation,y(x)))"
      ]
    },
    {
      "cell_type": "markdown",
      "metadata": {},
      "source": [
        "В.П. Денесюк, В.К. Репета, частина 2, стор. 258 №3.4.2."
      ]
    },
    {
      "cell_type": "code",
      "execution_count": 13,
      "metadata": {
        "colab": {
          "base_uri": "https://localhost:8080/",
          "height": 265
        },
        "id": "OSEXQFvGQpJr",
        "outputId": "3ede253b-2528-46fd-8800-a6b5bbdceedc"
      },
      "outputs": [
        {
          "name": "stdout",
          "output_type": "stream",
          "text": [
            "Задане диференціальне рівняння\n"
          ]
        },
        {
          "data": {
            "image/png": "[encoded data removed]",
            "text/latex": [
              "$\\displaystyle 2 y{\\left(x \\right)} - 3 \\frac{d}{d x} y{\\left(x \\right)} + \\frac{d^{2}}{d x^{2}} y{\\left(x \\right)} = e^{x}$"
            ],
            "text/plain": [
              "                        2           \n",
              "           d           d           x\n",
              "2⋅y(x) - 3⋅──(y(x)) + ───(y(x)) = ℯ \n",
              "           dx           2           \n",
              "                      dx            "
            ]
          },
          "metadata": {},
          "output_type": "display_data"
        },
        {
          "name": "stdout",
          "output_type": "stream",
          "text": [
            "Загальний розв'язок\n"
          ]
        },
        {
          "data": {
            "image/png": "[encoded data removed]",
            "text/latex": [
              "$\\displaystyle y{\\left(x \\right)} = \\left(C_{1} + C_{2} e^{x} - x\\right) e^{x}$"
            ],
            "text/plain": [
              "       ⎛         x    ⎞  x\n",
              "y(x) = ⎝C₁ + C₂⋅ℯ  - x⎠⋅ℯ "
            ]
          },
          "metadata": {},
          "output_type": "display_data"
        },
        {
          "name": "stdout",
          "output_type": "stream",
          "text": [
            "Перше рівняння\n"
          ]
        },
        {
          "data": {
            "image/png": "[encoded data removed]",
            "text/latex": [
              "$\\displaystyle C_{1} + C_{2}$"
            ],
            "text/plain": [
              "C₁ + C₂"
            ]
          },
          "metadata": {},
          "output_type": "display_data"
        },
        {
          "name": "stdout",
          "output_type": "stream",
          "text": [
            "Друге рівняння\n"
          ]
        },
        {
          "data": {
            "image/png": "[encoded data removed]",
            "text/latex": [
              "$\\displaystyle C_{1} + 2 C_{2} - 1$"
            ],
            "text/plain": [
              "C₁ + 2⋅C₂ - 1"
            ]
          },
          "metadata": {},
          "output_type": "display_data"
        },
        {
          "name": "stdout",
          "output_type": "stream",
          "text": [
            "Значення довільних сталих\n"
          ]
        },
        {
          "data": {
            "image/png": "[encoded data removed]",
            "text/latex": [
              "$\\displaystyle \\left\\{ C_{1} : 2, \\  C_{2} : 0\\right\\}$"
            ],
            "text/plain": [
              "{C₁: 2, C₂: 0}"
            ]
          },
          "metadata": {},
          "output_type": "display_data"
        },
        {
          "name": "stdout",
          "output_type": "stream",
          "text": [
            "Розв'язок задачі Коші/ частковий розв\n"
          ]
        },
        {
          "data": {
            "image/png": "[encoded data removed]",
            "text/latex": [
              "$\\displaystyle \\left(2 - x\\right) e^{x}$"
            ],
            "text/plain": [
              "         x\n",
              "(2 - x)⋅ℯ "
            ]
          },
          "metadata": {},
          "output_type": "display_data"
        }
      ],
      "source": [
        "import numpy as np\n",
        "from sympy import *\n",
        "from IPython.display import *\n",
        "import matplotlib.pyplot as plt\n",
        "init_printing(use_latex=True)\n",
        "var('x C1 C2')\n",
        "y = Function(\"y\")(x) \n",
        "de = Eq(y.diff(x,x)-3*y.diff(x)+2*y,exp(x))\n",
        "print(\"Задане диференціальне рівняння\")\n",
        "display(de)\n",
        "\n",
        "des = dsolve(de,y) \n",
        "print(\"Загальний розв'язок\")\n",
        "display(des)\n",
        "\n",
        "eq1=des.rhs.subs(x,0)\n",
        "print(\"Перше рівняння\")\n",
        "display(eq1)\n",
        "\n",
        "eq2=des.rhs.diff(x).subs(x,0)\n",
        "print(\"Друге рівняння\")\n",
        "display(eq2)\n",
        "\n",
        "y_0 = 2\n",
        "def_y_0 = 1\n",
        "seq=solve([eq1 - y_0,eq2 -def_y_0],C1,C2)\n",
        "print(\"Значення довільних сталих\")\n",
        "display(seq)\n",
        "\n",
        "rez=des.rhs.subs([(C1,seq[C1]),(C2,seq[C2])])\n",
        "F = Lambda(x,rez)\n",
        "print(\"Розв'язок задачі Коші/ частковий розв\")\n",
        "display(F(x))\n"
      ]
    },
    {
      "cell_type": "code",
      "execution_count": 8,
      "metadata": {
        "colab": {
          "base_uri": "https://localhost:8080/",
          "height": 453
        },
        "id": "qO0gHnhxPSor",
        "outputId": "2c10e3c6-523d-4414-c617-e5c257d1d64c"
      },
      "outputs": [
        {
          "data": {
            "image/png": "[encoded data removed]",
            "text/plain": [
              "<Figure size 640x480 with 1 Axes>"
            ]
          },
          "metadata": {},
          "output_type": "display_data"
        }
      ],
      "source": [
        "f=lambdify(x, rez, \"numpy\")\n",
        "x = np.linspace(0,5,100)\n",
        "plt.grid(True)\n",
        "plt.xlabel('$x$',fontsize=12)\n",
        "plt.ylabel(' $y$',fontsize=16)\n",
        "plt.plot(x,f(x),color='red', linewidth=3)\n",
        "plt.show()"
      ]
    },
    {
      "cell_type": "code",
      "execution_count": 12,
      "metadata": {},
      "outputs": [
        {
          "data": {
            "image/png": "[encoded data removed]",
            "text/plain": [
              "<Figure size 640x480 with 1 Axes>"
            ]
          },
          "metadata": {},
          "output_type": "display_data"
        }
      ],
      "source": [
        "p = plot(F(x), line_color='magenta', ylim=(-10, 5), show=False)\n",
        "p.title = 'Графік (2 - x)*exp(x)'\n",
        "p.xlabel = 'x'\n",
        "p.ylabel = 'y'\n",
        "p.show()"
      ]
    },
    {
      "cell_type": "markdown",
      "metadata": {},
      "source": [
        "В.П. Денесюк, В.К. Репета, частина 2, стор. 270 №4.1.2."
      ]
    },
    {
      "cell_type": "code",
      "execution_count": 33,
      "metadata": {
        "colab": {
          "base_uri": "https://localhost:8080/",
          "height": 58
        },
        "id": "EXGLRzViVrNj",
        "outputId": "e85f22ac-c9f0-4a3b-b18f-1d7f4f8eca70"
      },
      "outputs": [
        {
          "data": {
            "image/png": "[encoded data removed]",
            "text/latex": [
              "$\\displaystyle \\left[ x{\\left(t \\right)} = - 2 C_{1} e^{2 t} - C_{2} e^{3 t} - \\frac{3 e^{t}}{2} - \\frac{1}{3}, \\  y{\\left(t \\right)} = C_{1} e^{2 t} + C_{2} e^{3 t} + \\frac{e^{t}}{2} - \\frac{1}{6}\\right]$"
            ],
            "text/plain": [
              "⎡                                  t                                  t    ⎤\n",
              "⎢               2⋅t       3⋅t   3⋅ℯ    1             2⋅t       3⋅t   ℯ    1⎥\n",
              "⎢x(t) = - 2⋅C₁⋅ℯ    - C₂⋅ℯ    - ──── - ─, y(t) = C₁⋅ℯ    + C₂⋅ℯ    + ── - ─⎥\n",
              "⎣                                2     3                             2    6⎦"
            ]
          },
          "metadata": {},
          "output_type": "display_data"
        }
      ],
      "source": [
        "from sympy import *\n",
        "\n",
        "t = symbols('t')\n",
        "x, y = symbols('x y', cls=Function)\n",
        "eq = (Eq(Derivative(x(t), t), x(t) - 2 *y(t) + exp(t)), Eq(Derivative(y(t), t), x(t) + 4 * y(t) + 1))\n",
        "rez = dsolve(eq)\n",
        "display(list(rez))"
      ]
    }
  ],
  "metadata": {
    "colab": {
      "provenance": []
    },
    "kernelspec": {
      "display_name": "Python 3",
      "name": "python3"
    },
    "language_info": {
      "codemirror_mode": {
        "name": "ipython",
        "version": 3
      },
      "file_extension": ".py",
      "mimetype": "text/x-python",
      "name": "python",
      "nbconvert_exporter": "python",
      "pygments_lexer": "ipython3",
      "version": "3.11.5"
    }
  },
  "nbformat": 4,
  "nbformat_minor": 0
}
